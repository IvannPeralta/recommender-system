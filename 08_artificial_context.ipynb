{
 "cells": [
  {
   "cell_type": "code",
   "execution_count": 1,
   "id": "d7a1b1c2",
   "metadata": {},
   "outputs": [
    {
     "name": "stdout",
     "output_type": "stream",
     "text": [
      "   user hora_dia dispositivo          user_ctx\n",
      "0   196    tarde          pc      196@tarde#pc\n",
      "1   186    noche      mobile  186@noche#mobile\n",
      "2    22   mañana          pc      22@mañana#pc\n",
      "3   244   mañana          pc     244@mañana#pc\n",
      "4   166   mañana          pc     166@mañana#pc\n"
     ]
    }
   ],
   "source": [
    "import pandas as pd\n",
    "import numpy as np\n",
    "\n",
    "# Leer el dataset original\n",
    "cols = ['user', 'item', 'rating', 'timestamp']\n",
    "df = pd.read_csv('datasets/ml-100k/u.data', sep='\\t', names=cols)\n",
    "\n",
    "# Agregar hora del día\n",
    "df['hour'] = pd.to_datetime(df['timestamp'], unit='s').dt.hour\n",
    "df['hora_dia'] = df['hour'].apply(\n",
    "    lambda h: 'mañana' if 5 <= h < 12 else ('tarde' if 12 <= h < 18 else 'noche')\n",
    ")\n",
    "\n",
    "# Simular dispositivo\n",
    "np.random.seed(42)\n",
    "df['dispositivo'] = np.random.choice(['pc', 'mobile'], size=len(df))\n",
    "\n",
    "# Crear ID artificial de usuario contextual\n",
    "df['user_ctx'] = df['user'].astype(str) + '@' + df['hora_dia'] + '#' + df['dispositivo']\n",
    "\n",
    "# Mostrar ejemplo\n",
    "print(df[['user', 'hora_dia', 'dispositivo', 'user_ctx']].head())\n",
    "\n",
    "# Guardar dataset con usuario contextual\n",
    "df[['user_ctx', 'item', 'rating']].to_csv('datasets/ml-100k/u_context.csv', index=False, header=False)\n"
   ]
  },
  {
   "cell_type": "code",
   "execution_count": 3,
   "id": "82f6f0a2",
   "metadata": {},
   "outputs": [
    {
     "name": "stdout",
     "output_type": "stream",
     "text": [
      "rating_threshold = 0.0\n",
      "exclude_unknowns = True\n",
      "---\n",
      "Training data:\n",
      "Number of users = 2526\n",
      "Number of items = 1651\n",
      "Number of ratings = 80000\n",
      "Max rating = 5.0\n",
      "Min rating = 1.0\n",
      "Global mean = 3.5\n",
      "---\n",
      "Test data:\n",
      "Number of users = 2526\n",
      "Number of items = 1651\n",
      "Number of ratings = 19947\n",
      "Number of unknown users = 0\n",
      "Number of unknown items = 0\n",
      "---\n",
      "Total users = 2526\n",
      "Total items = 1651\n"
     ]
    },
    {
     "data": {
      "application/vnd.jupyter.widget-view+json": {
       "model_id": "6ec110fc097c4342810193c3acf61551",
       "version_major": 2,
       "version_minor": 0
      },
      "text/plain": [
       "  0%|          | 0/50 [00:00<?, ?it/s]"
      ]
     },
     "metadata": {},
     "output_type": "display_data"
    },
    {
     "name": "stdout",
     "output_type": "stream",
     "text": [
      "Optimization finished!\n",
      "\n",
      "[MF] Training started!\n"
     ]
    },
    {
     "data": {
      "application/vnd.jupyter.widget-view+json": {
       "model_id": "ae65461cc2ce4c9fb41b04d8fa66caa1",
       "version_major": 2,
       "version_minor": 0
      },
      "text/plain": [
       "  0%|          | 0/50 [00:00<?, ?it/s]"
      ]
     },
     "metadata": {},
     "output_type": "display_data"
    },
    {
     "name": "stdout",
     "output_type": "stream",
     "text": [
      "Optimization finished!\n",
      "\n",
      "[MF] Evaluation started!\n"
     ]
    },
    {
     "data": {
      "application/vnd.jupyter.widget-view+json": {
       "model_id": "d44eff28e16d43b5a86eb0d0e72859e1",
       "version_major": 2,
       "version_minor": 0
      },
      "text/plain": [
       "Rating:   0%|          | 0/19947 [00:00<?, ?it/s]"
      ]
     },
     "metadata": {},
     "output_type": "display_data"
    },
    {
     "data": {
      "application/vnd.jupyter.widget-view+json": {
       "model_id": "ee7571dcfe31494f85257efda59b8f7d",
       "version_major": 2,
       "version_minor": 0
      },
      "text/plain": [
       "Ranking:   0%|          | 0/2300 [00:00<?, ?it/s]"
      ]
     },
     "metadata": {},
     "output_type": "display_data"
    },
    {
     "name": "stdout",
     "output_type": "stream",
     "text": [
      "MAE: 0.8305\n",
      "RMSE: 0.9813\n",
      "NDCG@5: 0.0159\n",
      "Precision@5: 0.0139\n",
      "Train (s): 0.2671\n",
      "Test (s): 1.6925\n"
     ]
    }
   ],
   "source": [
    "from cornac.data import Reader\n",
    "from cornac.eval_methods import RatioSplit\n",
    "from cornac.models import MF\n",
    "from cornac.metrics import RMSE, MAE, Precision, NDCG\n",
    "\n",
    "# Leer el dataset con usuario contextual\n",
    "reader = Reader()\n",
    "data_ctx = reader.read(fpath='datasets/ml-100k/u_context.csv', fmt='UIR', sep=',')\n",
    "\n",
    "# Método de evaluación (igual que antes)\n",
    "eval_method_ctx = RatioSplit(\n",
    "    data=data_ctx,\n",
    "    test_size=0.2,\n",
    "    rating_threshold=0.0,\n",
    "    exclude_unknowns=True,\n",
    "    verbose=True,\n",
    "    seed=42\n",
    ")\n",
    "\n",
    "# Entrenar el modelo con usuario contextual\n",
    "model_ctx = MF(k=10, max_iter=50, learning_rate=0.01, verbose=True)\n",
    "model_ctx.fit(eval_method_ctx.train_set)\n",
    "\n",
    "# Evaluar el modelo con usuario contextual\n",
    "metrics_ctx = eval_method_ctx.evaluate(\n",
    "    model_ctx,\n",
    "    metrics=[RMSE(), MAE(), Precision(k=5), NDCG(k=5)],\n",
    "    user_based=True\n",
    ")\n",
    "\n",
    "# Mostrar resultados\n",
    "for metric, value in metrics_ctx[0].metric_avg_results.items():\n",
    "    print(f\"{metric}: {value:.4f}\")"
   ]
  },
  {
   "cell_type": "markdown",
   "id": "c91caf7e",
   "metadata": {},
   "source": [
    "MAE: 0.8305\n",
    "RMSE: 0.9813\n",
    "NDCG@5: 0.0159\n",
    "Precision@5: 0.0139\n",
    "Train (s): 0.2671\n",
    "Test (s): 1.6925"
   ]
  }
 ],
 "metadata": {
  "kernelspec": {
   "display_name": "cornac-venv",
   "language": "python",
   "name": "python3"
  },
  "language_info": {
   "codemirror_mode": {
    "name": "ipython",
    "version": 3
   },
   "file_extension": ".py",
   "mimetype": "text/x-python",
   "name": "python",
   "nbconvert_exporter": "python",
   "pygments_lexer": "ipython3",
   "version": "3.12.3"
  }
 },
 "nbformat": 4,
 "nbformat_minor": 5
}
