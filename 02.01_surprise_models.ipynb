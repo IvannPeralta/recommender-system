{
 "cells": [
  {
   "cell_type": "code",
   "execution_count": null,
   "id": "8f6ad6a5",
   "metadata": {},
   "outputs": [],
   "source": [
    "# Importar librerías\n",
    "from surprise import Dataset, Reader, KNNBasic, SVD\n",
    "from surprise.model_selection import cross_validate, train_test_split\n",
    "from surprise import accuracy\n",
    "\n",
    "# Cargar el dataset MovieLens\n",
    "reader = Reader(line_format='user item rating timestamp', sep='\\t')\n",
    "data = Dataset.load_from_file('datasets/ml-100k/u.data', reader=reader)\n",
    "\n",
    "# Dividir el dataset en entrenamiento y prueba\n",
    "trainset, testset = train_test_split(data, test_size=0.2, random_state=42)"
   ]
  },
  {
   "cell_type": "code",
   "execution_count": null,
   "id": "3394c872",
   "metadata": {},
   "outputs": [],
   "source": [
    "# Modelo 1: UserKNN (Filtrado Colaborativo Basado en Vecinos)\n",
    "sim_options = {\n",
    "    'name': 'cosine',       # Tipo de similitud\n",
    "    'user_based': True      # Si es False, usa item-item\n",
    "}\n",
    "\n",
    "model_knn = KNNBasic(sim_options=sim_options)\n",
    "# Entrenar el modelo KNN\n",
    "model_knn.fit(trainset)\n",
    "\n",
    "# Evaluar el modelo KNN\n",
    "pred_knn = model_knn.test(testset)\n",
    "\n",
    "print(\"KNN - RMSE:\")         # Error cuadrático medio\n",
    "accuracy.rmse(pred_knn)\n",
    "\n",
    "print(\"KNN - MAE:\")          # Error absoluto medio\n",
    "accuracy.mae(pred_knn)"
   ]
  },
  {
   "cell_type": "code",
   "execution_count": null,
   "id": "5801b175",
   "metadata": {},
   "outputs": [],
   "source": [
    "#  Modelo 2: SVD (Factorización de Matrices)\n",
    "\n",
    "model_svd = SVD()\n",
    "model_svd.fit(trainset)\n",
    "\n",
    "pred_svd = model_svd.test(testset)\n",
    "\n",
    "print(\"SVD - RMSE:\")        # Error cuadrático medio\n",
    "accuracy.rmse(pred_svd)\n",
    "\n",
    "print(\"SVD - MAE:\")         # Error absoluto medio\n",
    "accuracy.mae(pred_svd)"
   ]
  },
  {
   "cell_type": "markdown",
   "id": "d6a99428",
   "metadata": {},
   "source": [
    "| Modelo  | RMSE   | MAE    | Tiempo |\n",
    "| ------- | ------ | ------ | ------ |\n",
    "| UserKNN | 1.0194 | 0.8038 | 2.1s   |\n",
    "| SVD     | 0.9354 | 0.7376 | 0.8s   |\n",
    "\n",
    "RMSE (Root Mean Squared Error): Penaliza mucho los errores grandes. Mide cuánto se desvía la predicción del rating real. Más baja = mejor.\n",
    "\n",
    "MAE (Mean Absolute Error): Mide el error promedio absoluto. Menos sensible a outliers que RMSE. Más baja = mejor.\n",
    "\n",
    "---\n",
    "\n",
    "## Análisis: **UserKNN**\n",
    "\n",
    "| Aspecto          | Análisis                                                                                                                             |\n",
    "| ---------------- | ------------------------------------------------------------------------------------------------------------------------------------ |\n",
    "| **RMSE: 1.0194** | Es un valor aceptable, pero más alto que SVD. El modelo no predice tan bien como SVD.                                            |\n",
    "| **MAE: 0.8038**  | Está en el rango típico para filtrado colaborativo básico. Es más robusto que el RMSE.                                               |\n",
    "| **Tiempo: 2.1s** | Lento para un modelo tan simple. Esto se debe a que calcular similitudes entre usuarios es costoso (requiere comparar muchos pares). |\n",
    "\n",
    "**Conclusión**: UserKNN es fácil de entender, pero en datasets grandes sufre por escalabilidad y precisión.\n",
    "\n",
    "---\n",
    "\n",
    "## Análisis: **SVD**\n",
    "\n",
    "| Aspecto          | Análisis                                                                                                     |\n",
    "| ---------------- | ------------------------------------------------------------------------------------------------------------ |\n",
    "| **RMSE: 0.9354** | Notablemente mejor que UserKNN. SVD aprende patrones latentes más eficientemente.                        |\n",
    "| **MAE: 0.7376**  | También mejor que KNN. Muestra menor desviación promedio.                                                    |\n",
    "| **Tiempo: 0.8s** | Mucho más rápido. SVD entrena con optimización por SGD y es más eficiente que comparar usuarios manualmente. |\n",
    "\n",
    "**Conclusión**: SVD es más preciso y eficiente, aunque menos interpretable.\n",
    "\n"
   ]
  }
 ],
 "metadata": {
  "kernelspec": {
   "display_name": "surprise-venv",
   "language": "python",
   "name": "python3"
  },
  "language_info": {
   "codemirror_mode": {
    "name": "ipython",
    "version": 3
   },
   "file_extension": ".py",
   "mimetype": "text/x-python",
   "name": "python",
   "nbconvert_exporter": "python",
   "pygments_lexer": "ipython3",
   "version": "3.12.3"
  }
 },
 "nbformat": 4,
 "nbformat_minor": 5
}
