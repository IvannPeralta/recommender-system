{
 "cells": [
  {
   "cell_type": "code",
   "execution_count": 7,
   "id": "12a026ad",
   "metadata": {},
   "outputs": [
    {
     "name": "stdout",
     "output_type": "stream",
     "text": [
      "rating_threshold = 0.0\n",
      "exclude_unknowns = True\n",
      "---\n",
      "Training data:\n",
      "Number of users = 943\n",
      "Number of items = 1651\n",
      "Number of ratings = 80000\n",
      "Max rating = 5.0\n",
      "Min rating = 1.0\n",
      "Global mean = 3.5\n",
      "---\n",
      "Test data:\n",
      "Number of users = 943\n",
      "Number of items = 1651\n",
      "Number of ratings = 19964\n",
      "Number of unknown users = 0\n",
      "Number of unknown items = 0\n",
      "---\n",
      "Total users = 943\n",
      "Total items = 1651\n"
     ]
    },
    {
     "data": {
      "application/vnd.jupyter.widget-view+json": {
       "model_id": "2b54f5128d98420d89b1f65e2a1644f1",
       "version_major": 2,
       "version_minor": 0
      },
      "text/plain": [
       "  0%|          | 0/50 [00:00<?, ?it/s]"
      ]
     },
     "metadata": {},
     "output_type": "display_data"
    },
    {
     "name": "stdout",
     "output_type": "stream",
     "text": [
      "Optimization finished!\n",
      "Usuarios fríos encontrados: 148\n"
     ]
    }
   ],
   "source": [
    "from cornac.data import Reader\n",
    "from cornac.eval_methods import RatioSplit\n",
    "from cornac.models import MF\n",
    "from collections import defaultdict\n",
    "\n",
    "import numpy as np\n",
    "\n",
    "\n",
    "# Cargar dataset\n",
    "reader = Reader()\n",
    "data = reader.read(fpath='datasets/ml-100k/u.data', fmt='UIRT', sep='\\t')\n",
    "\n",
    "# Separación entrenamiento/test\n",
    "eval_method = RatioSplit(\n",
    "    data=data,\n",
    "    test_size=0.2,\n",
    "    rating_threshold=0.0,\n",
    "    exclude_unknowns=True,\n",
    "    verbose=True,\n",
    "    seed=42\n",
    ")\n",
    "\n",
    "# Entrenar modelo\n",
    "model = MF(k=10, max_iter=50, learning_rate=0.01, verbose=True)\n",
    "model.fit(eval_method.train_set)\n",
    "\n",
    "# Historial de ítems vistos por usuario\n",
    "train_set = eval_method.train_set\n",
    "user_rated = {}\n",
    "\n",
    "# Construir historial real desde el entrenamiento\n",
    "user_indices, item_indices, _ = train_set.uir_tuple\n",
    "\n",
    "for uid, iid in zip(user_indices, item_indices):\n",
    "    user_rated.setdefault(uid, set()).add(iid)\n",
    "\n",
    "# Contar interacciones por usuario en entrenamiento\n",
    "interacciones_por_usuario = defaultdict(int)\n",
    "for uid in train_set.uid_map.values():\n",
    "    interacciones_por_usuario[uid] = len(user_rated.get(uid, []))\n",
    "\n",
    "# Filtrar usuarios fríos (≤ 5 interacciones)\n",
    "usuarios_frios = [uid for uid, n in interacciones_por_usuario.items() if n <= 20]\n",
    "print(f\"Usuarios fríos encontrados: {len(usuarios_frios)}\")\n"
   ]
  },
  {
   "cell_type": "code",
   "execution_count": 8,
   "id": "3e7b8e1c",
   "metadata": {},
   "outputs": [],
   "source": [
    "# Todos los ítems posibles (índices internos)\n",
    "all_items_internal = set(train_set.iid_map.values())\n",
    "\n",
    "TOP_N = 5\n",
    "\n",
    "def get_top_n(model, train_set, user_rated, all_items_internal, top_n=5):\n",
    "    top_n_dict = {}\n",
    "    for uid in train_set.uid_map.values():\n",
    "        seen = user_rated.get(uid, set())\n",
    "        candidates = all_items_internal - seen\n",
    "        scores = [(iid, model.score(uid, iid)) for iid in candidates]\n",
    "        scores.sort(key=lambda x: x[1], reverse=True)\n",
    "        top_n_dict[uid] = [iid for iid, _ in scores[:top_n]]\n",
    "    return top_n_dict\n",
    "\n",
    "top_n_mf = get_top_n(model, train_set, user_rated, all_items_internal)\n",
    "\n",
    "top_n_mf_frios = {uid: recs for uid, recs in top_n_mf.items() if uid in usuarios_frios}\n"
   ]
  },
  {
   "cell_type": "code",
   "execution_count": 9,
   "id": "abf1317f",
   "metadata": {},
   "outputs": [
    {
     "name": "stdout",
     "output_type": "stream",
     "text": [
      "Precision@5 (usuarios fríos): 0.0135\n",
      "Cobertura (usuarios fríos): 0.0836\n"
     ]
    }
   ],
   "source": [
    "# Ground truth del test\n",
    "test_set = eval_method.test_set\n",
    "ground_truth = {}\n",
    "for uid, iid, _ in zip(*test_set.uir_tuple):\n",
    "    ground_truth.setdefault(uid, set()).add(iid)\n",
    "\n",
    "# Precision@5\n",
    "def precision_at_k(top_n, ground_truth, k=5):\n",
    "    precisiones = []\n",
    "    for uid, recs in top_n.items():\n",
    "        gt = ground_truth.get(uid, set())\n",
    "        if not gt:\n",
    "            continue\n",
    "        hits = sum([1 for iid in recs if iid in gt])\n",
    "        precisiones.append(hits / k)\n",
    "    return np.mean(precisiones)\n",
    "\n",
    "# Cobertura\n",
    "def cobertura(top_n, total_items):\n",
    "    items_recomendados = set(iid for recs in top_n.values() for iid in recs)\n",
    "    return len(items_recomendados) / total_items\n",
    "\n",
    "# Métricas\n",
    "precision_frios = precision_at_k(top_n_mf_frios, ground_truth)\n",
    "cobertura_frios = cobertura(top_n_mf_frios, len(train_set.iid_map))\n",
    "\n",
    "print(f\"Precision@5 (usuarios fríos): {precision_frios:.4f}\")\n",
    "print(f\"Cobertura (usuarios fríos): {cobertura_frios:.4f}\")\n"
   ]
  },
  {
   "cell_type": "markdown",
   "id": "aa6113da",
   "metadata": {},
   "source": [
    "**Resultados para usuarios fríos**\n",
    "\n",
    "| Métrica      | Valor  |\n",
    "| ------------ | ------ |\n",
    "| Precision\\@5 | 0.0135 |\n",
    "| Cobertura    | 0.0836 |\n",
    "\n",
    "**Desempeño bajo en precisión**\n",
    "\n",
    "* Un 0.0135 en Precision\\@5 significa que, en promedio, menos del 2% de las recomendaciones para usuarios fríos aciertan con ítems relevantes.\n",
    "* Esto confirma lo esperado: MF necesita historial previo para generar buenas recomendaciones.\n",
    "\n",
    "**Cobertura relativamente buena**\n",
    "\n",
    "* El modelo sigue recomendando ítems diversos, incluso para usuarios con poca información.\n",
    "* Esto sugiere que MF aún explora, pero no lo hace con acierto para estos casos.\n",
    "\n",
    "**Limitación del modelo colaborativo puro**\n",
    "\n",
    "* MF se basa completamente en interacciones pasadas.\n",
    "* Para usuarios nuevos, no tiene datos para construir sus vectores latentes de forma informativa.\n",
    "* Resultado: las recomendaciones se acercan a lo aleatorio."
   ]
  }
 ],
 "metadata": {
  "kernelspec": {
   "display_name": "cornac-venv",
   "language": "python",
   "name": "python3"
  },
  "language_info": {
   "codemirror_mode": {
    "name": "ipython",
    "version": 3
   },
   "file_extension": ".py",
   "mimetype": "text/x-python",
   "name": "python",
   "nbconvert_exporter": "python",
   "pygments_lexer": "ipython3",
   "version": "3.12.3"
  }
 },
 "nbformat": 4,
 "nbformat_minor": 5
}
