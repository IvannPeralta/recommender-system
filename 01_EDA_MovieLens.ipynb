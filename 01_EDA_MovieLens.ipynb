{
 "cells": [
  {
   "cell_type": "code",
   "execution_count": null,
   "id": "cc5eb906",
   "metadata": {},
   "outputs": [],
   "source": [
    "## Importar librerías\n",
    "import pandas as pd\n",
    "import matplotlib.pyplot as plt\n",
    "import seaborn as sns"
   ]
  },
  {
   "cell_type": "code",
   "execution_count": null,
   "id": "3a674b9b",
   "metadata": {},
   "outputs": [],
   "source": [
    "## Cargar el dataset MovieLens 100K\n",
    "# u.data → user_id, item_id, rating, timestamp\n",
    "ratings = pd.read_csv(\"datasets/ml-100k/u.data\", sep=\"\\t\", names=[\"user_id\", \"item_id\", \"rating\", \"timestamp\"])\n",
    "\n",
    "# u.item → item_id, title, genres...\n",
    "movies = pd.read_csv(\"datasets/ml-100k/u.item\", sep=\"|\", encoding=\"latin-1\", header=None, usecols=[0, 1], names=[\"item_id\", \"title\"])\n",
    "\n",
    "ratings = ratings.merge(movies, on=\"item_id\")\n",
    "ratings = ratings.drop(columns=[\"timestamp\"])\n",
    "ratings.head(10)"
   ]
  },
  {
   "cell_type": "code",
   "execution_count": null,
   "id": "ec739dd2",
   "metadata": {},
   "outputs": [],
   "source": [
    "## Análisis exploratorio de datos\n",
    "n_users = ratings['user_id'].nunique()\n",
    "n_items = ratings['item_id'].nunique()\n",
    "n_ratings = len(ratings)\n",
    "\n",
    "print(f\"Número de usuarios: {n_users}\")\n",
    "print(f\"Número de películas: {n_items}\")\n",
    "print(f\"Número total de ratings: {n_ratings}\")\n",
    "\n",
    "# Sparsity (porcentaje de datos faltantes)\n",
    "total_possible = n_users * n_items\n",
    "sparsity = 1 - n_ratings / total_possible\n",
    "print(f\"Sparsity del dataset: {sparsity:.2%}\")"
   ]
  },
  {
   "cell_type": "code",
   "execution_count": null,
   "id": "901285bc",
   "metadata": {},
   "outputs": [],
   "source": [
    "## Distribución de ratings\n",
    "sns.countplot(x=\"rating\", data=ratings)\n",
    "plt.title(\"Distribución de ratings\")\n",
    "plt.xlabel(\"Rating\")\n",
    "plt.ylabel(\"Cantidad\")\n",
    "plt.show()"
   ]
  },
  {
   "cell_type": "code",
   "execution_count": null,
   "id": "5dab7920",
   "metadata": {},
   "outputs": [],
   "source": [
    "## Ratings por usuario\n",
    "ratings_per_user = ratings['user_id'].value_counts()  # Cuenta valores únicos de user_id, es decir, cantidad de veces que rateo\n",
    "\n",
    "plt.figure(figsize=(10,5))\n",
    "plt.hist(ratings_per_user, bins=30)\n",
    "plt.title(\"Distribución de ratings por usuario\")\n",
    "plt.xlabel(\"cantidad de películas que un usuario ha calificado\")\n",
    "plt.ylabel(\"Cantidad de usuarios\")\n",
    "plt.show()\n",
    "\n",
    "# La primera barra, muy alta, indica que hay más de 300 usuarios que calificaron entre 1 y 30 películas."
   ]
  },
  {
   "cell_type": "code",
   "execution_count": null,
   "id": "95b3ce3f",
   "metadata": {},
   "outputs": [],
   "source": [
    "## Ratings por película\n",
    "ratings_per_movie = ratings['item_id'].value_counts() # Cantidad de apariciones de cada película\n",
    "\n",
    "plt.figure(figsize=(10,5))\n",
    "plt.hist(ratings_per_movie, bins=30)\n",
    "plt.title(\"Distribución de ratings por película\")\n",
    "plt.xlabel(\"Número de ratings de una película\") # Por ej, una pelicula se calificó 10 veces\n",
    "plt.ylabel(\"Cantidad de películas\")             # Hay 700 películas que se calificaron 30 veces\n",
    "plt.show()\n",
    "\n",
    "# La primera barra, muy alta, indica que hay más de 700 películas que recibieron entre 1 y 30 ratings."
   ]
  },
  {
   "cell_type": "markdown",
   "id": "850492fa",
   "metadata": {},
   "source": [
    "### **Conclusiones** \n",
    "**Número de usuarios y películas**\n",
    "* 943 usuarios y 1682 películas.\n",
    "* Matriz usuario-película de 943 x 1682 = 1.586.426 posibles interacciones.\n",
    "\n",
    "**Sparcity (Dispersión de datos)**\n",
    "* Solo hay 100.000 ratings reales, lo que implica una sparsity de ~93.7%. Esto significa que la gran mayoría de las combinaciones usuario-película están vacías (no calificadas).\n",
    "* **Implicación:** los modelos deben funcionar bien con pocos datos por usuario, esto hace que modelos como filtrado colaborativo necesiten trucos para ser efectivos (kNN, regularización, etc.).\n",
    "\n",
    "**Distribución de ratings**\n",
    "* Los valores más comunes son 4 y 5 estrellas. \n",
    "* Hay muy pocos 1s y 2s. \n",
    "* **Implicación:** \n",
    "    * Los usuarios suelen dar calificaciones positivas. \n",
    "    * Hay sesgo positivo, lo que puede influir en métricas como RMSE. \n",
    "    * Los modelos pueden tender a sobrevalorar ítems si no se ajusta esto.\n",
    "\n",
    "**Distribución de ratings por usuario**\n",
    "* La mayoría de los usuarios calificó menos de 50 películas.\n",
    "* Muy pocos calificaron más de 300.\n",
    "* **Implicación:**\n",
    "    * Hay muchos usuarios con muy poca información.\n",
    "    * Es un desafío para el filtrado colaborativo → aparece el problema del usuario frío.\n",
    "    * Reforza la idea de usar modelos híbridos, contexto, o perfiles generados.\n",
    "\n",
    "**Distribución de ratings por película**\n",
    "* Muchas películas tienen muy pocos ratings (1 a 10).\n",
    "* Pocas películas fueron calificadas por muchos usuarios (algunas más de 300).\n",
    "* **Implicación:**\n",
    "    * Existe un claro sesgo de popularidad: los modelos tenderán a recomendar lo más calificado.\n",
    "    * Las películas menos vistas pueden no ser recomendadas nunca, lo que perjudica la diversidad.\n",
    "\n",
    "\n",
    "**Síntesis de Aprendizajes Clave**\n",
    "\n",
    "| Área       | Conclusión                                                    | Conecta con tema de tesis                    |\n",
    "|------------|---------------------------------------------------------------|----------------------------------------------|\n",
    "| Datos      | Dataset realista, pero muy disperso (sparsity ~94%)           | Requiere técnicas para sparsity              |\n",
    "| Usuarios   | Mucha variabilidad en la actividad entre usuarios             | Usuario frío, personalización                |\n",
    "| Ítems      | Alta concentración de ratings en pocos ítems (larga cola)     | Sesgo de popularidad                         |\n",
    "| Ratings    | Sesgo positivo (mayoría de ratings son 4 o 5)                 | Necesidad de normalización, calibrado        |\n",
    "| Evaluación | Las métricas promedio pueden ser engañosas                    | Considerar diversidad y cobertura también    |\n",
    "\n",
    "\n"
   ]
  }
 ],
 "metadata": {
  "kernelspec": {
   "display_name": "surprise-venv",
   "language": "python",
   "name": "python3"
  },
  "language_info": {
   "codemirror_mode": {
    "name": "ipython",
    "version": 3
   },
   "file_extension": ".py",
   "mimetype": "text/x-python",
   "name": "python",
   "nbconvert_exporter": "python",
   "pygments_lexer": "ipython3",
   "version": "3.12.3"
  }
 },
 "nbformat": 4,
 "nbformat_minor": 5
}
